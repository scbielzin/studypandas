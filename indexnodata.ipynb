{
 "cells": [
  {
   "cell_type": "code",
   "execution_count": 2,
   "metadata": {},
   "outputs": [
    {
     "name": "stdout",
     "output_type": "stream",
     "text": [
      "      Calorias  Minutos\n",
      "dia1       346       45\n",
      "dia2       260       32\n",
      "dia3       553       67\n"
     ]
    }
   ],
   "source": [
    "import pandas as pd\n",
    "\n",
    "data = {\n",
    "  'Calorias': [346, 260, 553],\n",
    "  'Minutos': [45, 32, 67]\n",
    "}\n",
    "\n",
    "#rotulos são index padrão 0, 1, 2\n",
    "\n",
    "myvar = pd.DataFrame(data, index = [\"dia1\", \"dia2\", \"dia3\"])\n",
    "\n",
    "print(myvar)\n",
    "\n",
    "#Pandas usam o loc atributo para retornar uma ou mais linhas especificadas"
   ]
  }
 ],
 "metadata": {
  "kernelspec": {
   "display_name": "Python 3.9.6 64-bit",
   "language": "python",
   "name": "python3"
  },
  "language_info": {
   "codemirror_mode": {
    "name": "ipython",
    "version": 3
   },
   "file_extension": ".py",
   "mimetype": "text/x-python",
   "name": "python",
   "nbconvert_exporter": "python",
   "pygments_lexer": "ipython3",
   "version": "3.9.6"
  },
  "orig_nbformat": 4,
  "vscode": {
   "interpreter": {
    "hash": "81794d4967e6c3204c66dcd87b604927b115b27c00565d3d43f05ba2f3a2cb0d"
   }
  }
 },
 "nbformat": 4,
 "nbformat_minor": 2
}
